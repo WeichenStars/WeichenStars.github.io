{
 "cells": [
  {
   "cell_type": "markdown",
   "metadata": {},
   "source": [
    "## Quantities to define density fluctuation"
   ]
  },
  {
   "cell_type": "markdown",
   "metadata": {},
   "source": [
    "The intention of this note is to use the minimum equations to illustrate the skelton of LSS & Cosmology for the interest of galaxy people\n",
    "\n",
    "Traditionally, these statistics have been run on spatial scales >1 Mpc, which is the typical separation between galaxies"
   ]
  },
  {
   "cell_type": "markdown",
   "metadata": {},
   "source": [
    "* Overdentisty:\n",
    "\n",
    " <space><space><space><space><space> $\\delta=\\frac{\\rho-\\overline{\\rho}}{\\overline{\\rho}}$\n",
    " \n",
    " \n",
    "* Two-point correlation function:\n",
    " \n",
    "  <space><space><space><space><space> $\\xi(r)=<\\delta(x+r)\\ \\delta(x)>$\n",
    "\n",
    "  <space><space><space><space><space><space> $\\sigma^2=\\xi(0)=<\\delta(x)\\ \\delta(x)>$ \n",
    "  \n",
    " \n",
    "* Power spectrum, defined following $\\xi(r)$:\n",
    "\n",
    "  <space><space><space><space><space> $P(k)=\\int\\xi(r)\\cdot exp(ikr)\\ d r$"
   ]
  }
 ],
 "metadata": {
  "kernelspec": {
   "display_name": "Python 2",
   "language": "python",
   "name": "python2"
  },
  "language_info": {
   "codemirror_mode": {
    "name": "ipython",
    "version": 2
   },
   "file_extension": ".py",
   "mimetype": "text/x-python",
   "name": "python",
   "nbconvert_exporter": "python",
   "pygments_lexer": "ipython2",
   "version": "2.7.13"
  }
 },
 "nbformat": 4,
 "nbformat_minor": 0
}
