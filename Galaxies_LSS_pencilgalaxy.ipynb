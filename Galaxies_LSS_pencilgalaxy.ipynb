{
 "cells": [
  {
   "cell_type": "markdown",
   "metadata": {},
   "source": [
    "The intention of this note is to use the minimum equations to illustrate the skelton of Large Scale Structure & Cosmology for the interest of galaxy people.\n",
    "\n",
    "A few references I used:\n",
    "\n",
    "1. [Galaxy formation, J. Silk, A. Di Cintio, & I. Dvorkin, 2013]( http://arxiv.org/abs/1312.0107)\n",
    "\n",
    "2. [Lecture note on Galaxy Survey Cosmology by H. Kurki-Suonio, 2017](http://www.helsinki.fi/~hkurkisu/GSC1.pdf)\n",
    "\n",
    "3. [Galaxy Formation and Evolution, by H. Mo , F. van den Bosch , S. White, Cambridge University Press, 2010](http://adsabs.harvard.edu/abs/2010gfe..book.....M)\n",
    "\n",
    "4. [Baryon Acoustic Oscillations, B. Bassett and R. Hlozek, 2009](https://arxiv.org/abs/0910.5224)\n",
    "\n",
    "5. [Cosmology, S. Weinberg, 2008](http://adsabs.harvard.edu/abs/2008cosm.book.....W)\n",
    "\n",
    "\n",
    "Current plans include 3 parallel versions of the same note:  a concise one with the least equations; one with order-of-magnitude estimations of physical quantities to match an observer's view; the last with the most details."
   ]
  },
  {
   "cell_type": "markdown",
   "metadata": {},
   "source": [
    "### Quantities to define density fluctuation"
   ]
  },
  {
   "cell_type": "markdown",
   "metadata": {},
   "source": [
    "Traditionally, these statistics have been run on spatial scales >1 Mpc, which is the typical separation between galaxies.\n",
    "\n",
    "Future studies may bridge galaxy formation with cosmology via hydro-simulations, in which much more physics is involved than what people can achieve for now. Here's [a relevant paper](http://adsabs.harvard.edu/doi/10.1093/mnras/stx3304)."
   ]
  },
  {
   "cell_type": "markdown",
   "metadata": {},
   "source": [
    "* Overdentisty:\n",
    "\n",
    " <space><space><space><space><space> $\\delta=\\frac{\\rho-\\overline{\\rho}}{\\overline{\\rho}}$\n",
    " \n",
    " \n",
    "* Two-point correlation function:\n",
    " \n",
    "  <space><space><space><space><space> $\\xi(r)=<\\delta(x+r)\\ \\delta(x)>$\n",
    "\n",
    "  <space><space><space><space><space><space> $\\sigma^2=\\xi(0)=<\\delta(x)\\ \\delta(x)>$ \n",
    "  \n",
    "   <space><space><space><space><space><space> $\\xi(r)=0$ for a Poisson field.\n",
    "   \n",
    " \n",
    "* Power spectrum, defined following $\\xi(r)$:\n",
    "\n",
    "  <space><space><space><space><space> $P(k)=\\int\\xi(r)\\cdot \\exp(ikr)\\ d r$\n",
    "  \n",
    "  A reverse Fourier Transform (d is the dimension of space):\n",
    "  \n",
    "  <space><space><space><space><space> $\\xi (r)=\\frac{1}{(2\\pi)^d}\\int P(k)\\cdot \\exp(-ikr)\\ d k$\n",
    "  \n",
    "  <space><space><space><space><space> Then at r=0, we have:\n",
    "  \n",
    "   <space><space><space><space><space> $\\sigma^2=\\xi (0)=\\frac{1}{(2\\pi)^d}\\int P(k)\\ d k=\\int \\Delta^2(k)\\ d\\ln k$\n",
    "    \n",
    "   <space><space><space><space><space> $\\Delta^2(k)$ is just normalized, dimensionless P(k). In 3 dimensions: $\\Delta^2(k)=(k^3/2\\pi^2) P(k)$.\n",
    "    \n",
    "  <space><space><space><space><space> Being commonly used in cosmology, $\\sigma^2_8 = \\int W^2(k)\\ \\Delta^2(k)\\ d \\ln k$, where W is the fourier transform of some window function which selects regions within $R=8\\ Mpc\\cdot h^{-1}$ and looks like [this](http://inspirehep.net/record/1290494/files/WINDOW_fn_example.png).\n",
    "  \n",
    "  \n",
    "<!--- * Fourier Transform of the density field. (could be skipped)\n",
    "\n",
    "  <space><space><space><space><space> This is another quantity cosmology people love to play with, and may not be as essential as others.\n",
    "\n",
    "  <space><space><space><space><space> $\\delta_{k}=\\frac{1}{V}\\int \\delta(x)\\cdot \\exp(ikx)\\ d x$. 1/V is used to make the LHS dimensionless.\n",
    "  \n",
    "  <space><space><space><space><space> In this case:\n",
    "  \n",
    "  <space><space><space><space><space> $P(k)=V<\\delta(k)\\ \\delta^*(k)>=V<\\delta(k)^2>$\n",
    "  \n",
    "  <space><space><space><space><space> Proof:\n",
    "  \n",
    "  <space><space><space><space><space> $<\\delta(k_1)\\ \\delta^*(k_2)>=\\frac{1}{V^2}\\int \\int <\\delta(x_1)\\ \\delta(x_2)> \\exp(ik_1 x_1)\\ \\exp (-ik_2 x_2)\\ d x_1 d x_2\\\\ =\\frac{1}{V^2}\\int \\int <\\delta(x_1)\\ \\delta(x_1+r)> \\exp(ik_1 x_1)\\ \\exp (-ik_2 (x_1+r))\\ d x_1 d r \\\\ =\\frac{1}{V^2}\\int \\exp (-ik_2 r) d r\\int d x_1<\\delta(x_1)\\ \\delta(x_1+r)> \\exp(i(k_1-k_2) x_1) \\\\= \\frac{1}{V^2}\\int \\exp (-ik_2 r) d r\\int d x_1<\\xi(x_1,r)> \\exp(i(k_1-k_2) x_1)=\\\\  = \\frac{1}{V^2}\\int \\exp (-ik_2 r) d r\\int d x_1<\\xi(r)> \\exp(i(k_1-k_2) x_1) \\\\= \\frac{1}{V^2}\\int \\exp (-ik_2 r) d r <\\xi(r)> \\int d x_1\\exp(i(k_1-k_2) x_1)\\\\= \\frac{1}{V^2}\\int \\exp (-ik_2 r) d r <\\xi(r)> \\delta_{Kronecker}(k_1-k_2)$\n",
    "  \n",
    "  <space><space><space><space><space>  Only at $k_1=k_2$, we have:\n",
    " \n",
    "    <space><space><space><space><space>  $<\\delta(k)\\ \\delta(k)>=\\frac{1}{V}P(k)$ --->"
   ]
  },
  {
   "cell_type": "markdown",
   "metadata": {},
   "source": [
    "### Basic cosmology without inhomogeneity"
   ]
  },
  {
   "cell_type": "markdown",
   "metadata": {},
   "source": [
    "* Robertson-Walker Metric in a flat universe: \n",
    "\n",
    "    <space><space><space><space><space> $d^2 \\tau=d^2t-a^2(t)(d^2r+r^2d\\Omega)$\n",
    "    \n",
    "    <space><space><space><space><space> Equation of motion in the frame of General Relativity:\n",
    "    \n",
    "    <space><space><space><space><space>  <space><space><space><space><space> $\\frac{d^2x^\\mu}{d\\lambda^2}+\\Gamma^\\mu_{\\nu \\sigma}\\frac{d x^\\nu}{d \\lambda}\\frac{d x^\\sigma}{d \\lambda}$=0\n",
    "\n",
    "\n",
    "* Friedmann's equations:\n",
    "\n",
    "    <space><space><space><space><space> (a)&nbsp;   $(\\frac{\\dot{a}}{a})^2+\\frac{K}{a^2}=\\frac{8\\pi G \\rho}{3}$\n",
    "    \n",
    "    <space><space><space><space><space> (b)&nbsp;   $\\dot{\\rho}=-\\frac{3\\dot{a}}{a}(p+\\rho)$ (energy conservation)\n",
    "    \n",
    "    <space><space><space><space><space> $\\dot{a}/a$ is usually denoted as Hubble parameter, H(t). Critical density at present is denoted as:&nbsp; $\\rho_{0, crit}=\\frac{3H_0^2}{8\\pi G}=2.8\\times 10^{11}M_\\odot h^{-1}\\ (h^{-1}Mpc)^{-3}$.\n",
    "    \n",
    "    <space><space><space><space><space> These equations are a realization of Einstein Equation under RW metric: $G_{\\mu\\nu}=8\\pi G T_{\\mu\\nu}$\n",
    "    \n",
    "    <space><space><space><space><space> The different components of matter/energy enter the equations through the polytropic relation: $p=\\omega\\rho$\n",
    "    \n",
    "    <space><space><space><space><space> Cold matter: $\\omega=0$; Radiation: $\\omega=1/3$; Dark Energy: $\\omega=-1$.\n",
    "    \n",
    "\n",
    "* Observables:\n",
    "\n",
    "    <space><space><space><space><space> A golden rule for redshift in all cosmologies: $1+z=1/a$ &nbsp; (assuming $a=1$ for present time)\n",
    "    \n",
    "    <space><space><space><space><space> A golden rule for distance in all cosmologies: $d_{A}:d_L=a:1/a=1/(1+z):(1+z)$. This is simply caused by the scale factor evolution.\n",
    "    \n",
    "    <space><space><space><space><space> Relation between the proper distance and the luminosity distance in a *flat* universe:  $d_{proper}:d_L=1:1/a=1:(1+z)$\n",
    "    \n",
    "    <space><space><space><space><space> Following the 2nd Friedmann equation, we have the total density of the universe as a function of time (redshift):\n",
    "    \n",
    "     <space><space><space><space><space> $\\rho=\\rho_{0,\\Lambda}+\\rho_{0,M}(a/a_0)^{-3}+\\rho_{0, R}(a/a_0)^{-4}=\\rho_{0,\\Lambda}+\\rho_{0,M}(1+z)^{3}+\\rho_{0, R}(1+z)^{4}$, where $\\rho_0$ and $a_0$ are the densities and scale factor at the present time.\n",
    "     \n",
    "    <space><space><space><space><space> Normalize both sides by $\\rho_{0, crit}$:\n",
    "    \n",
    "    <space><space><space><space><space> $\\rho/\\rho_{0, crit}=\\Omega_{0,\\Lambda}+\\Omega_{0,M}(1+z)^{3}+\\Omega_{0, R}(1+z)^{4}$\n",
    "    \n",
    "    <space><space><space><space><space> Combine this equation with the 1st Friedmann equation:\n",
    "    \n",
    "    <space><space><space><space><space> $H^2(z)=(\\dot{a}/a)^2=\\frac{8\\pi G}{3}\\rho_{0, crit}[\\Omega_{0,\\Lambda}+\\Omega_{0,M}(1+z)^{3}+\\Omega_{0, R}(1+z)^{4}]-K=H_0^2[\\Omega_{0,\\Lambda}+\\Omega_{0,M}(1+z)^{3}+\\Omega_{0, R}(1+z)^{4}]-K(1+z)^2$\n",
    "    \n",
    "    <space><space><space><space><space> The exact relation between (look back) time and redshift is obtained by integration:\n",
    "    \n",
    "    <space><space><space><space><space> $t\\,(z_f)=\\frac{1}{H_0}\\int_{1+z_f}^1 \\frac{d z}{(1+z)\\sqrt{\\Omega_{0,\\Lambda}+\\Omega_{0,M}(1+z)^{3}+\\Omega_{0, R}(1+z)^{4}-(1+z)^2K/H_0^2}}$\n",
    "    \n",
    "    <space><space><space><space><space> The comving distance is then derived from the RW metric ( $d \\tau^2=0$ for light propagation) for $K=0$: $r\\,(z_f)=t\\,(z_f)$.\n",
    "\n",
    "\n",
    "* Some concrete Numbers to bear in mind:\n",
    "\n",
    "    <space><space><space><space><space>  Hubble constant: 70 $km\\cdot s^{-1}/Mpc$\n",
    "    \n",
    "    <space><space><space><space><space>  Hubble radius: c/$H_0$= 3 Gpc"
   ]
  },
  {
   "cell_type": "markdown",
   "metadata": {},
   "source": [
    "### Linear evolution of inhomogeneity in the universe"
   ]
  },
  {
   "cell_type": "markdown",
   "metadata": {},
   "source": [
    "This derivation is Newtonian, which works well when the fluctuation is caused instantaneously ($l<ct_0$) and the fluid is non-relativistic ($v<<c$). \n",
    "\n",
    "The mathematics starts with the fluid equations:\n",
    "\n",
    "$\\partial \\rho/\\partial t+\\nabla\\cdot (\\rho \\vec{v})=0$ (continuity)\n",
    "\n",
    "$d \\vec{u}/d t=-\\nabla \\phi - 1/\\rho \\nabla P$ (Euler)\n",
    "\n",
    "$\\nabla^2 \\phi=4\\pi G \\rho$ (Poisson)\n",
    "\n",
    "All the diffrentiations are taken under the proper (physical) coordinate, and $d/d t=\\partial/\\partial t+\\vec{u}\\cdot \\nabla$. The next step is to switch to the comoving coordinate ($\\vec{r}=\\vec{x}/a(t)$), assume no pressure, and specify the fluctuation $\\delta=\\rho(\\vec{r}, t)/\\overline{\\rho}$ (all densities are cold matter densities in this section):\n",
    "\n",
    "$d \\rho/d t+\\frac{1}{a}\\nabla\\cdot \\vec{v}=0$\n",
    "\n",
    "$d (a\\vec{v})/d t=-\\nabla \\Phi$\n",
    "\n",
    "$\\nabla^2 \\Phi=4\\pi G a^2 \\overline{\\rho} \\delta$\n",
    "\n",
    "where $\\Phi=\\phi+a \\ddot{a} x^2/2$"
   ]
  },
  {
   "cell_type": "markdown",
   "metadata": {},
   "source": [
    "### Formation of a dark matter halo and the dark matter halo statistics"
   ]
  },
  {
   "cell_type": "markdown",
   "metadata": {},
   "source": [
    "Such process is clearly not linear, since for halos $\\delta>1$.\n",
    "\n",
    "Start with a overdense region of size R (proper distance). We apply Newtonian mechanics and therefore can write the total energy of the system as:\n",
    "\n",
    "<space><space><space><space><space> $\\frac{1}{2}(\\frac{d R}{d t})^2-\\frac{GM}{R}=E_{tot}$\n",
    "     \n",
    "<space><space><space><space><space> Solution to the equation with parameter $\\theta$: $R=A(1-\\cos \\theta)$, $t=B(\\theta-\\sin \\theta)$.\n",
    "\n",
    "At the initial state of collapse, $\\theta \\sim 0$, $t\\sim 0$.Therefore, Taylor expansion can be done to the solution:\n",
    "\n",
    "\n",
    "Beyond spherical collapse: [a Zeldovich Pancake](https://en.wikipedia.org/wiki/Zeldovich_pancake)"
   ]
  }
 ],
 "metadata": {
  "kernelspec": {
   "display_name": "Python 2",
   "language": "python",
   "name": "python2"
  },
  "language_info": {
   "codemirror_mode": {
    "name": "ipython",
    "version": 2
   },
   "file_extension": ".py",
   "mimetype": "text/x-python",
   "name": "python",
   "nbconvert_exporter": "python",
   "pygments_lexer": "ipython2",
   "version": "2.7.13"
  }
 },
 "nbformat": 4,
 "nbformat_minor": 0
}
