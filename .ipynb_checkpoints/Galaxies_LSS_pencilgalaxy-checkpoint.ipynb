{
 "cells": [
  {
   "cell_type": "markdown",
   "metadata": {},
   "source": [
    "## Quantities to define density fluctuation"
   ]
  },
  {
   "cell_type": "markdown",
   "metadata": {},
   "source": [
    "The intention of this note is to use the minimum equations to illustrate the skelton of LSS & Cosmology for the interest of galaxy people.\n",
    "\n",
    "Traditionally, these statistics have been run on spatial scales >1 Mpc, which is the typical separation between galaxies.\n",
    "\n",
    "But we would expect much more abundant context will be reflected by these quantities in the near future on scales smaller than 1 Mpc. Here's [a relevant study](http://adsabs.harvard.edu/doi/10.1093/mnras/stx3304)."
   ]
  },
  {
   "cell_type": "markdown",
   "metadata": {},
   "source": [
    "* Overdentisty:\n",
    "\n",
    " <space><space><space><space><space> $\\delta=\\frac{\\rho-\\overline{\\rho}}{\\overline{\\rho}}$\n",
    " \n",
    " \n",
    "* Two-point correlation function:\n",
    " \n",
    "  <space><space><space><space><space> $\\xi(r)=<\\delta(x+r)\\ \\delta(x)>$\n",
    "\n",
    "  <space><space><space><space><space><space> $\\sigma^2=\\xi(0)=<\\delta(x)\\ \\delta(x)>$ \n",
    "  \n",
    " \n",
    "* Power spectrum, defined following $\\xi(r)$:\n",
    "\n",
    "  <space><space><space><space><space> $P(k)=\\int\\xi(r)\\cdot \\exp(ikr)\\ d r$\n",
    "  \n",
    "  A reverse Fourier Transform (d is the dimension of space):\n",
    "  \n",
    "  <space><space><space><space><space> $\\xi (r)=\\frac{1}{(2\\pi)^d}\\int P(k)\\cdot \\exp(-ikr)\\ d k$\n",
    "  \n",
    "  <space><space><space><space><space> Then at r=0, we have:\n",
    "  \n",
    "   <space><space><space><space><space> $\\sigma^2=\\xi (0)=\\frac{1}{(2\\pi)^d}\\int P(k)\\ d k=\\int \\Delta^2(k)\\ d\\ln k$\n",
    "    \n",
    "   <space><space><space><space><space> $\\Delta^2(k)$ is just normalized P(k). In 3 dimensions: $\\Delta^2(k)=k^3/2\\pi^2 P(k)$.\n",
    "    \n",
    "\n",
    "* Fourier Transform of the density field. \n",
    "\n",
    "  <space><space><space><space><space> This is another quantity cosmology people love to play with, and may not be as essential as others.\n",
    "\n",
    "  <space><space><space><space><space> $\\delta_{k}=\\frac{1}{V}\\int \\delta(x)\\cdot \\exp(ikx)\\ d x$. 1/V is used to make the LHS dimensionless.\n",
    "  \n",
    "  <space><space><space><space><space> In this case:\n",
    "  \n",
    "  <space><space><space><space><space> $P(k)=V<\\delta(k)\\ \\delta^*(k)>=V<\\delta(k)^2>$\n",
    "  \n",
    "\n",
    "* Writing density variaton in terms of power spectrum:\n",
    "\n",
    "  <space><space><space><space><space> $\\sigma^2=<\\delta(x)\\ \\delta(x)>=<\\int \\int \\delta_{k_1}\\cdot \\delta_{k_2}^*\\cdot \\exp(ik_1x)\\cdot \\exp(-ik_2x)\\ d k_1 d k_2>=<\\int \\delta_k\\cdot \\delta_k^*\\ d k$ >"
   ]
  }
 ],
 "metadata": {
  "kernelspec": {
   "display_name": "Python 2",
   "language": "python",
   "name": "python2"
  },
  "language_info": {
   "codemirror_mode": {
    "name": "ipython",
    "version": 2
   },
   "file_extension": ".py",
   "mimetype": "text/x-python",
   "name": "python",
   "nbconvert_exporter": "python",
   "pygments_lexer": "ipython2",
   "version": "2.7.13"
  }
 },
 "nbformat": 4,
 "nbformat_minor": 0
}
